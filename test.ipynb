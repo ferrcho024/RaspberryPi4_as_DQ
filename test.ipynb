{
 "cells": [
  {
   "cell_type": "code",
   "execution_count": null,
   "metadata": {},
   "outputs": [
    {
     "name": "stdout",
     "output_type": "stream",
     "text": [
      "Connected OK Returned code="
     ]
    },
    {
     "name": "stdout",
     "output_type": "stream",
     "text": [
      " Success\n",
      "Connected OK Returned code= Success\n",
      "Connected OK Returned code= Success\n",
      "Connected OK Returned code= Success\n",
      "Connected OK Returned code= Success\n",
      "Connected OK Returned code= Success\n",
      "Connected OK Returned code= Success\n",
      "Connected OK Returned code= Success\n",
      "Connected OK Returned code= Success\n"
     ]
    }
   ],
   "source": [
    "import multiprocessing\n",
    "import pandas as pd\n",
    "import numpy as np\n",
    "import scipy as sc\n",
    "import sys, importlib\n",
    "\n",
    "import Connectivity as net\n",
    "\n",
    "importlib.reload(net)\n",
    "\n",
    "get_queue = multiprocessing.Queue()\n",
    "\n",
    "mqtt_process = multiprocessing.Process(target=net.MQTTConection, args=(get_queue,))\n",
    "mqtt_process.start()\n"
   ]
  },
  {
   "cell_type": "code",
   "execution_count": 3,
   "metadata": {},
   "outputs": [],
   "source": [
    "import multiprocessing\n",
    "import time\n",
    "import sys, importlib\n",
    "import Connectivity as net\n",
    "import DQM as f_DQM\n",
    "\n",
    "importlib.reload(net)\n",
    "importlib.reload(f_DQM)\n",
    "\n",
    "#manager = multiprocessing.Manager()\n",
    "#result_list = []#manager.list()\n",
    "#datos = []\n",
    "\n",
    "def checkQueue(get_queue):\n",
    "    #global datos\n",
    "    while True:\n",
    "        if not get_queue.empty():\n",
    "            datos = get_queue.get()\n",
    "\n",
    "            #time.sleep(1)  # Espera antes de verificar nuevamente la longitud de la cola\n",
    "\n",
    "            df_values = []\n",
    "            nova_values = []\n",
    "            for v in datos:\n",
    "                df, nova, siata = v.split(\",\")\n",
    "                if df == \"nan\":\n",
    "                    df = np.nan\n",
    "                elif nova == \"nan\":\n",
    "                    nova == np.nan\n",
    "                df_values.append(float(df))\n",
    "                nova_values.append(float(nova))\n",
    "                siata = float(siata)\n",
    "            \n",
    "            df_comp = f_DQM.completeness(df_values)\n",
    "            nova_comp = f_DQM.completeness(nova_values)\n",
    "\n",
    "            df_prec = f_DQM.precision(df_values)\n",
    "            nova_prec = f_DQM.precision(nova_values)\n",
    "\n",
    "            df_acc = f_DQM.accuracy(df_values, siata)\n",
    "            nova_acc = f_DQM.accuracy(nova_values, siata)\n",
    "\n",
    "            uncert = f_DQM.uncertainty(df_values, nova_values)\n",
    "\n",
    "            concord = f_DQM.concordance(df_values, nova_values)\n",
    "\n",
    "            data_fusioned = f_DQM.fusion(df_values, nova_values, siata)\n",
    "\n",
    "            DQIndex_df = f_DQM.DQ_Index(df_values, siata, uncert, concord)\n",
    "            DQIndex_nova = f_DQM.DQ_Index(nova_values, siata, uncert, concord)\n",
    "            DQIndex_after = f_DQM.DQ_Index(data_fusioned, siata, uncert, concord)\n",
    "            \n",
    "\n",
    "            print(f\"DF Results\\n\"\n",
    "                  f\"Completeness: {df_comp:.3f}\\n\"\n",
    "                  f\"Precision: {df_prec:.3f}\\n\"\n",
    "                  f\"Accuracy: {df_acc:.3f}\\n\"\n",
    "                  f\"Concordance: {concord:.3f}\\n\"\n",
    "                  f\"Uncertainty: {uncert:.3f}\\n\")\n",
    "\n",
    "            print(f\"NOVA Results\\n\"\n",
    "                  f\"Completeness: {nova_comp:.3f}\\n\"\n",
    "                  f\"Precision: {nova_prec:.3f}\\n\"\n",
    "                  f\"Accuracy: {nova_acc:.3f}\\n\"\n",
    "                  f\"Concordance: {concord:.3f}\\n\"\n",
    "                  f\"Uncertainty: {uncert:.3f}\\n\")\n",
    "\n",
    "            print(f\"DQ Index\\n\"\n",
    "                  f\"DF: {DQIndex_df:.3f}\\n\"\n",
    "                  f\"NOVA: {DQIndex_nova:.3f}\\n\"\n",
    "                  f\"After Fusion: {DQIndex_after:.3f}\\n\")\n",
    "\n",
    "\n",
    "consumer_process = multiprocessing.Process(target=checkQueue, args=(get_queue,))\n",
    "consumer_process.start()\n"
   ]
  },
  {
   "cell_type": "code",
   "execution_count": 5,
   "metadata": {},
   "outputs": [
    {
     "ename": "ValueError",
     "evalue": "process object is closed",
     "output_type": "error",
     "traceback": [
      "\u001b[0;31m---------------------------------------------------------------------------\u001b[0m",
      "\u001b[0;31mValueError\u001b[0m                                Traceback (most recent call last)",
      "Cell \u001b[0;32mIn[5], line 7\u001b[0m\n\u001b[1;32m      1\u001b[0m importlib\u001b[38;5;241m.\u001b[39mreload(net)\n\u001b[1;32m      3\u001b[0m \u001b[38;5;66;03m#net.MQTTDisconnection(client)\u001b[39;00m\n\u001b[1;32m      4\u001b[0m \u001b[38;5;66;03m#client.loop_stop()\u001b[39;00m\n\u001b[1;32m      5\u001b[0m \u001b[38;5;66;03m#client.disconnect()\u001b[39;00m\n\u001b[1;32m      6\u001b[0m \u001b[38;5;66;03m#consumer_process.terminate()\u001b[39;00m\n\u001b[0;32m----> 7\u001b[0m \u001b[43mmqtt_process\u001b[49m\u001b[38;5;241;43m.\u001b[39;49m\u001b[43mterminate\u001b[49m\u001b[43m(\u001b[49m\u001b[43m)\u001b[49m\n\u001b[1;32m      8\u001b[0m time\u001b[38;5;241m.\u001b[39msleep(\u001b[38;5;241m2\u001b[39m)\n\u001b[1;32m      9\u001b[0m mqtt_process\u001b[38;5;241m.\u001b[39mclose()\n",
      "File \u001b[0;32m/usr/lib/python3.9/multiprocessing/process.py:132\u001b[0m, in \u001b[0;36mBaseProcess.terminate\u001b[0;34m(self)\u001b[0m\n\u001b[1;32m    128\u001b[0m \u001b[38;5;28;01mdef\u001b[39;00m \u001b[38;5;21mterminate\u001b[39m(\u001b[38;5;28mself\u001b[39m):\n\u001b[1;32m    129\u001b[0m     \u001b[38;5;124;03m'''\u001b[39;00m\n\u001b[1;32m    130\u001b[0m \u001b[38;5;124;03m    Terminate process; sends SIGTERM signal or uses TerminateProcess()\u001b[39;00m\n\u001b[1;32m    131\u001b[0m \u001b[38;5;124;03m    '''\u001b[39;00m\n\u001b[0;32m--> 132\u001b[0m     \u001b[38;5;28;43mself\u001b[39;49m\u001b[38;5;241;43m.\u001b[39;49m\u001b[43m_check_closed\u001b[49m\u001b[43m(\u001b[49m\u001b[43m)\u001b[49m\n\u001b[1;32m    133\u001b[0m     \u001b[38;5;28mself\u001b[39m\u001b[38;5;241m.\u001b[39m_popen\u001b[38;5;241m.\u001b[39mterminate()\n",
      "File \u001b[0;32m/usr/lib/python3.9/multiprocessing/process.py:101\u001b[0m, in \u001b[0;36mBaseProcess._check_closed\u001b[0;34m(self)\u001b[0m\n\u001b[1;32m     99\u001b[0m \u001b[38;5;28;01mdef\u001b[39;00m \u001b[38;5;21m_check_closed\u001b[39m(\u001b[38;5;28mself\u001b[39m):\n\u001b[1;32m    100\u001b[0m     \u001b[38;5;28;01mif\u001b[39;00m \u001b[38;5;28mself\u001b[39m\u001b[38;5;241m.\u001b[39m_closed:\n\u001b[0;32m--> 101\u001b[0m         \u001b[38;5;28;01mraise\u001b[39;00m \u001b[38;5;167;01mValueError\u001b[39;00m(\u001b[38;5;124m\"\u001b[39m\u001b[38;5;124mprocess object is closed\u001b[39m\u001b[38;5;124m\"\u001b[39m)\n",
      "\u001b[0;31mValueError\u001b[0m: process object is closed"
     ]
    }
   ],
   "source": [
    "importlib.reload(net)\n",
    "\n",
    "#net.MQTTDisconnection(client)\n",
    "#client.loop_stop()\n",
    "#client.disconnect()\n",
    "#consumer_process.terminate()\n",
    "mqtt_process.terminate()\n",
    "time.sleep(2)\n",
    "mqtt_process.close()\n",
    "#consumer_process.close()"
   ]
  },
  {
   "cell_type": "code",
   "execution_count": 114,
   "metadata": {},
   "outputs": [
    {
     "data": {
      "text/plain": [
       "nan"
      ]
     },
     "execution_count": 114,
     "metadata": {},
     "output_type": "execute_result"
    }
   ],
   "source": [
    "#print(get_queue.qsize())\n",
    "#datos = get_queue.get()\n",
    "#print(get_queue.qsize())\n",
    "#print(datos)\n",
    "float(np.nan)"
   ]
  },
  {
   "cell_type": "code",
   "execution_count": 8,
   "metadata": {},
   "outputs": [
    {
     "ename": "AttributeError",
     "evalue": "'list' object has no attribute 'reshape'",
     "output_type": "error",
     "traceback": [
      "\u001b[0;31m---------------------------------------------------------------------------\u001b[0m",
      "\u001b[0;31mAttributeError\u001b[0m                            Traceback (most recent call last)",
      "Cell \u001b[0;32mIn[8], line 29\u001b[0m\n\u001b[1;32m     26\u001b[0m data2 \u001b[38;5;241m=\u001b[39m np\u001b[38;5;241m.\u001b[39mnan_to_num(data2)\n\u001b[1;32m     28\u001b[0m np\u001b[38;5;241m.\u001b[39mcorrcoef(data1, data2)\n\u001b[0;32m---> 29\u001b[0m \u001b[43mdata1\u001b[49m\u001b[38;5;241;43m.\u001b[39;49m\u001b[43mreshape\u001b[49m\n",
      "\u001b[0;31mAttributeError\u001b[0m: 'list' object has no attribute 'reshape'"
     ]
    }
   ],
   "source": [
    "import numpy as np\n",
    "ref = 14.2742\n",
    "data1 = [44.46522, 44.46522, 42.39872, 44.46522, np.nan, 42.39872, 45.49846, 42.39872, 40.33223, 36.19923, np.nan, np.nan, 35.16599, 35.16599, 35.16599, 34.13274, 37.23248, 39.29898, 40.33223, 40.33223, 39.29898, np.nan, 40.33223, 40.33223, 40.33223, 36.19923, 36.19923, 40.33223, 41.36547, 44.46522, 46.53171, 46.53171, 47.56496, 42.39872, 41.36547, 45.49846, 51.69795, 50.6647, 48.59821, 45.49846, 43.43197, 41.36547, 41.36547, 43.43197, 47.56496, 43.43197, 40.33223, 44.46522, 45.49846, 43.43197, 41.36547, 41.36547, 44.46522, 47.56496, 45.49846, 41.36547, 45.49846, 47.56496, 45.49846, 44.46522]\n",
    "data2 = [61.4259, 61.4259, 65.47722, 76.28072, np.nan, 64.12678, 93.83641, 96.53729, 76.28072, 65.47722, np.nan, np.nan, 57.37459, 37.11802, 47.92152, 56.02415, 54.67371, 80.33203, 41.16933, 47.92152, 46.57109, np.nan, 50.6224, 51.97284, 57.37459, 135.7, 45.22065, 35.76758, 39.8189, 65.47722, 68.17809, 64.12678, 72.22941, 61.4259, 58.72503, 61.4259, 83.03291, 108.6912, 60.07546, 49.27196, 62.77634, 64.12678, 60.07546, 57.37459, 56.02415, 64.12678, 51.97284, 53.32328, 57.37459, 57.37459, 62.77634, 50.6224, 41.16933, 43.87021, 46.57109, 42.51977, 45.22065, 62.77634, 114.093, 107.3408]\n",
    "\n",
    "'''\n",
    "data1 = [37.23248,36.19923,36.19923,38.26573,36.19923,38.26573,37.23248,37.23248,\n",
    "38.26573,38.26573,36.19923,35.16599,32.06624,33.09949,33.09949,36.19923,\n",
    "38.26573,39.29898,38.26573,36.19923,36.19923,37.23248,34.13274,35.16599,\n",
    "37.23248,36.19923,37.23248,35.16599,36.19923,37.23248,39.29898,38.26573,\n",
    "36.19923,36.19923,36.19923,37.23248,38.26573,39.29898,44.46522,44.46522,\n",
    "42.39872,44.46522,np.nan,42.39872,45.49846,42.39872,40.33223,36.19923,\n",
    "np.nan,np.nan,35.16599,35.16599,35.16599,34.13274,37.23248,39.29898,\n",
    "40.33223,40.33223,39.29898,np.nan]\n",
    "\n",
    "data2 = np.array([38.46846,38.46846,39.8189,38.46846,41.16933,38.46846,39.8189,39.8189,\n",
    "39.8189,41.16933,38.46846,37.11802,38.46846,37.11802,37.11802,38.46846,\n",
    "39.8189,38.46846,38.46846,39.8189,39.8189,38.46846,37.11802,37.11802,\n",
    "39.8189,39.8189,37.11802,38.46846,39.8189,39.8189,41.16933,39.8189,\n",
    "37.11802,37.11802,38.46846,38.46846,37.11802,37.11802,61.4259,61.4259,\n",
    "65.47722,76.28072,np.nan,64.12678,93.83641,96.53729,76.28072,65.47722,\n",
    "np.nan,np.nan,57.37459,37.11802,47.92152,56.02415,54.67371,80.33203,\n",
    "41.16933,47.92152,46.57109,np.nan])\n",
    "'''\n",
    "#data1 = np.nan_to_num(data1)\n",
    "data2 = np.nan_to_num(data2)\n",
    "\n",
    "np.corrcoef(data1, data2)\n",
    "data1.reshape"
   ]
  }
 ],
 "metadata": {
  "kernelspec": {
   "display_name": "Python 3",
   "language": "python",
   "name": "python3"
  },
  "language_info": {
   "codemirror_mode": {
    "name": "ipython",
    "version": 3
   },
   "file_extension": ".py",
   "mimetype": "text/x-python",
   "name": "python",
   "nbconvert_exporter": "python",
   "pygments_lexer": "ipython3",
   "version": "3.9.2"
  }
 },
 "nbformat": 4,
 "nbformat_minor": 2
}
